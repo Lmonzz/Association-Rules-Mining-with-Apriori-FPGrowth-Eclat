{
 "cells": [
  {
   "cell_type": "markdown",
   "id": "6b7f0b66-2833-4fa4-adec-dfadeeb6933f",
   "metadata": {},
   "source": [
    "## Load Data"
   ]
  },
  {
   "cell_type": "code",
   "execution_count": 1,
   "id": "8a927604-9537-4df0-8410-04fc60f7bf07",
   "metadata": {},
   "outputs": [],
   "source": [
    "import numpy as np\n",
    "import pandas as pd\n",
    "from random import sample\n",
    "from libs.utils import *"
   ]
  },
  {
   "cell_type": "code",
   "execution_count": 3,
   "id": "4efbd2f2-deb9-42c4-a08a-1b0b56c10fb4",
   "metadata": {},
   "outputs": [],
   "source": [
    "path_to_data = \"C:/Users/Admin/DA_Projects/online_retail.txt\"\n",
    "min_support = 0.05\n",
    "min_confidence = 0.6\n",
    "path_to_order = \"C:/Users/Admin/DA_Projects/order.txt\""
   ]
  },
  {
   "cell_type": "code",
   "execution_count": 5,
   "id": "d4fb49fa-1c60-40bf-bd78-c259c782c68e",
   "metadata": {},
   "outputs": [
    {
     "name": "stdout",
     "output_type": "stream",
     "text": [
      "['3 PIECE SPACEBOY COOKIE CUTTER SET', '3 TRADITIONAl BISCUIT CUTTERS  SET', '60 CAKE CASES VINTAGE CHRISTMAS', 'ALARM CLOCK BAKELIKE ORANGE', 'ANTIQUE GLASS DRESSING TABLE POT', 'ANTIQUE TALL SWIRLGLASS TRINKET POT', 'ASSORTED COLOUR BIRD ORNAMENT', 'ASSORTED COLOUR MINI CASES', 'BAG 125g SWIRLY MARBLES', 'BAKING SET SPACEBOY DESIGN', 'BATH BUILDING BLOCK WORD', 'BLACK HEART CARD HOLDER', 'BLACK RECORD COVER FRAME', 'BLUE BIRDHOUSE DECORATION', 'CANDLEHOLDER PINK HANGING HEART', 'CARD CIRCUS PARADE', 'CERAMIC CAKE STAND + HANGING CAKES', 'CERAMIC STRAWBERRY DESIGN MUG', 'CHILDS BREAKFAST SET SPACEBOY', 'CHILLI LIGHTS', 'CHOCOLATE HOT WATER BOTTLE', 'CHRISTMAS LIGHTS 10 REINDEER', 'CHRISTMAS MUSICAL ZINC HEART', 'CHRISTMAS MUSICAL ZINC STAR', 'CINAMMON SET OF 9 T-LIGHTS', 'CIRCUS PARADE CHILDRENS EGG CUP', 'CLASSICAL ROSE SMALL VASE', 'COLOUR GLASS T-LIGHT HOLDER HANGING', 'CREAM HEART CARD HOLDER', 'CREAM SLICE FLANNEL PINK SPOT', 'CUPCAKE LACE PAPER SET 6', 'DOVE DECORATION PAINTED ZINC', 'EDWARDIAN PARASOL PINK', 'ENAMEL WASH BOWL CREAM', 'FAIRY TALE COTTAGE NIGHTLIGHT', 'FAMILY PHOTO FRAME CORNICE', 'FAUX FUR CHOCOLATE THROW', 'FAWN BLUE HOT WATER BOTTLE', 'FLUTED ANTIQUE CANDLE HOLDER', 'FOLKART ZINC HEART CHRISTMAS DEC', 'GLITTER CHRISTMAS HEART', 'GRAND CHOCOLATECANDLE', 'GREEN CHRISTMAS TREE CARD HOLDER', 'GREY HEART HOT WATER BOTTLE', 'HAND WARMER BABUSHKA DESIGN', 'HAND WARMER BIRD DESIGN', 'HAND WARMER OWL DESIGN', 'HAND WARMER RED POLKA DOT', 'HAND WARMER RED RETROSPOT', 'HAND WARMER SCOTTY DOG DESIGN', 'HAND WARMER UNION JACK', 'HANGING HEART ZINC T-LIGHT HOLDER', 'HEART OF WICKER SMALL', 'HOMEMADE JAM SCENTED CANDLES', 'HOT WATER BOTTLE BABUSHKA', 'HOT WATER BOTTLE TEA AND SYMPATHY', 'IVORY DINER WALL CLOCK', 'JAM JAR WITH GREEN LID', 'JAM JAR WITH PINK LID', 'JAM MAKING SET PRINTED', 'JUMBO  BAG BAROQUE BLACK WHITE', 'JUMBO BAG RED RETROSPOT', 'LADS ONLY TISSUE BOX', 'LANTERN CREAM GAZEBO', 'LIGHT GARLAND BUTTERFILES PINK', 'LITTLE GREEN MONSTER SOFT TOY', 'LUNCH BOX I LOVE LONDON', 'MULTI COLOUR SILVER T-LIGHT HOLDER', 'NAMASTE SWAGAT INCENSE', 'NATURAL SLATE HEART CHALKBOARD', 'PACK 3 BOXES CHRISTMAS PANNETONE', 'PACK OF 12 LONDON TISSUES', 'PAPER CHAIN KIT VINTAGE CHRISTMAS', 'PINK HEART SHAPE EGG FRYING PAN', 'PLASTERS IN TIN STRONGMAN', 'PORCELAIN ROSE LARGE', 'PORCELAIN ROSE SMALL', 'POSTAGE', 'RED  HARMONICA IN BOX', 'RED HANGING HEART T-LIGHT HOLDER', 'RED RETROSPOT CAKE STAND', 'RED RETROSPOT OVEN GLOVE', 'RED TOADSTOOL LED NIGHT LIGHT', 'RED WOOLLY HOTTIE WHITE HEART.', 'REGENCY CAKESTAND 3 TIER', 'RETROSPOT CHILDRENS APRON', 'RETROSPOT HEART HOT WATER BOTTLE', 'RETROSPOT LAMP', 'RIBBON REEL CHRISTMAS PRESENT', 'ROTATING LEAVES T-LIGHT HOLDER', 'SCOTTIE DOG HOT WATER BOTTLE', 'SET OF 2 CHRISTMAS DECOUPAGE CANDLE', 'SET OF 2 WOODEN MARKET CRATES', 'SET OF 20 VINTAGE CHRISTMAS NAPKINS', 'SET OF 3 BLACK FLYING DUCKS', 'SET OF 3 COLOURED  FLYING DUCKS', 'SET OF 6 SOLDIER SKITTLES', 'SET OF 6 T-LIGHTS TOADSTOOLS', 'SINGLE HEART ZINC T-LIGHT HOLDER', 'SMALL HANGING IVORY/RED WOOD BIRD', 'SOAP DISH BROCANTE', 'STRAWBERRY CERAMIC TRINKET BOX', 'STRIPEY CHOCOLATE NESTING BOXES', 'T-LIGHT GLASS FLUTED ANTIQUE', 'TOADSTOOL MONEY BOX', 'TRIPLE PHOTO FRAME CORNICE', 'UNION JACK FLAG PASSPORT COVER', 'UNION STRIPE WITH FRINGE  HAMMOCK', 'VICTORIAN GLASS HANGING T-LIGHT', 'VICTORIAN SEWING BOX LARGE', 'VINTAGE CREAM 3 BASKET CAKE STAND', 'VINTAGE HEADS AND TAILS CARD GAME', 'VINTAGE SNAP CARDS', 'WHITE HANGING HEART T-LIGHT HOLDER', 'WHITE SKULL HOT WATER BOTTLE', 'WHITE WIRE EGG HOLDER', 'WICKER STAR', 'WOODEN FRAME ANTIQUE WHITE', 'WOODEN OWLS LIGHT GARLAND', 'ZINC WILLIE WINKIE  CANDLE STICK']\n"
     ]
    }
   ],
   "source": [
    "order = load_order(path_to_order)\n",
    "transactions = load_transactions(path_to_data, order)\n",
    "sampled_transactions = transactions[:int(len(transactions) * 0.01)] \n",
    "filtered_transactions = [t for t in sampled_transactions if len(t) < 10]\n",
    "if len(filtered_transactions) > 50:\n",
    "    filtered_transactions = sample(filtered_transactions, 50)\n",
    "flattened_items = [item for sublist in filtered_transactions for item in sublist]\n",
    "order = sorted(set(flattened_items))\n",
    "print(order)"
   ]
  },
  {
   "cell_type": "code",
   "execution_count": 28,
   "id": "65b0d91f-7f77-4eae-a81d-920168fcd0f0",
   "metadata": {},
   "outputs": [
    {
     "name": "stdout",
     "output_type": "stream",
     "text": [
      "178\n"
     ]
    }
   ],
   "source": [
    "sum = 0\n",
    "for sublist in filtered_transactions:\n",
    "    sum += len(sublist)\n",
    "print(sum)"
   ]
  },
  {
   "cell_type": "code",
   "execution_count": 30,
   "id": "f39e1281-37d8-409e-ac30-b68b8f1ebba8",
   "metadata": {},
   "outputs": [
    {
     "data": {
      "text/plain": [
       "50"
      ]
     },
     "execution_count": 30,
     "metadata": {},
     "output_type": "execute_result"
    }
   ],
   "source": [
    "len(filtered_transactions)"
   ]
  },
  {
   "cell_type": "code",
   "execution_count": 32,
   "id": "ec8ffb5d-817e-48ec-827c-2b8f8bd558dd",
   "metadata": {},
   "outputs": [
    {
     "data": {
      "text/plain": [
       "142"
      ]
     },
     "execution_count": 32,
     "metadata": {},
     "output_type": "execute_result"
    }
   ],
   "source": [
    "len(order)"
   ]
  },
  {
   "cell_type": "markdown",
   "id": "f7375374-f97f-4c34-9809-f3b5266ceccd",
   "metadata": {},
   "source": [
    "## Initialization "
   ]
  },
  {
   "cell_type": "code",
   "execution_count": 34,
   "id": "58a3b586-8b99-48c1-9203-d5a147a269f4",
   "metadata": {},
   "outputs": [],
   "source": [
    "C = {}\n",
    "L = {}\n",
    "itemset_size = 1\n",
    "discarded = {itemset_size: []}\n",
    "C.update({itemset_size: [[f] for f in order]})"
   ]
  },
  {
   "cell_type": "code",
   "execution_count": 36,
   "id": "ea879c4e-e14b-41c3-a709-b338b079f2d9",
   "metadata": {},
   "outputs": [
    {
     "data": {
      "text/plain": [
       "{1: [['3 PIECE SPACEBOY COOKIE CUTTER SET'],\n",
       "  ['60 CAKE CASES VINTAGE CHRISTMAS'],\n",
       "  ['ALARM CLOCK BAKELIKE CHOCOLATE'],\n",
       "  ['ALARM CLOCK BAKELIKE GREEN'],\n",
       "  ['ALARM CLOCK BAKELIKE IVORY'],\n",
       "  ['ALARM CLOCK BAKELIKE ORANGE'],\n",
       "  ['ALARM CLOCK BAKELIKE PINK'],\n",
       "  ['ALARM CLOCK BAKELIKE RED'],\n",
       "  ['ANT WHITE WIRE HEART SPIRAL'],\n",
       "  ['ANTIQUE GLASS DRESSING TABLE POT'],\n",
       "  ['ANTIQUE TALL SWIRLGLASS TRINKET POT'],\n",
       "  ['ASSORTED BOTTLE TOP  MAGNETS'],\n",
       "  ['ASSORTED COLOUR BIRD ORNAMENT'],\n",
       "  ['ASSORTED COLOUR MINI CASES'],\n",
       "  ['BAG 125g SWIRLY MARBLES'],\n",
       "  ['BAKING SET SPACEBOY DESIGN'],\n",
       "  ['BATH BUILDING BLOCK WORD'],\n",
       "  ['BIRTHDAY PARTY CORDON BARRIER TAPE'],\n",
       "  ['BLACK HEART CARD HOLDER'],\n",
       "  ['BLACK RECORD COVER FRAME'],\n",
       "  ['BLUE BIRDHOUSE DECORATION'],\n",
       "  ['BLUE DRAWER KNOB ACRYLIC EDWARDIAN'],\n",
       "  ['BREAD BIN DINER STYLE PINK'],\n",
       "  ['BREAD BIN DINER STYLE RED'],\n",
       "  ['CAKE PLATE LOVEBIRD WHITE'],\n",
       "  ['CARD CIRCUS PARADE'],\n",
       "  ['CERAMIC CAKE STAND + HANGING CAKES'],\n",
       "  ['CERAMIC HEART FAIRY CAKE MONEY BANK'],\n",
       "  ['CERAMIC STRAWBERRY CAKE MONEY BANK'],\n",
       "  ['CERAMIC STRAWBERRY DESIGN MUG'],\n",
       "  ['CHEST OF DRAWERS GINGHAM HEART'],\n",
       "  ['CHILDS BREAKFAST SET SPACEBOY'],\n",
       "  ['CHILDS GARDEN BRUSH PINK'],\n",
       "  ['CHINESE DRAGON PAPER LANTERNS'],\n",
       "  ['CHRISTMAS GINGHAM HEART'],\n",
       "  ['CHRISTMAS LIGHTS 10 REINDEER'],\n",
       "  ['CHRISTMAS TREE DECORATION WITH BELL'],\n",
       "  ['CHRISTMAS TREE STAR DECORATION'],\n",
       "  ['CINAMMON SET OF 9 T-LIGHTS'],\n",
       "  ['CIRCUS PARADE CHILDRENS EGG CUP'],\n",
       "  ['CLASSICAL ROSE SMALL VASE'],\n",
       "  ['CLEAR DRAWER KNOB ACRYLIC EDWARDIAN'],\n",
       "  ['CREAM HEART CARD HOLDER'],\n",
       "  ['CREAM SLICE FLANNEL CHOCOLATE SPOT'],\n",
       "  ['CREAM SLICE FLANNEL PINK SPOT'],\n",
       "  ['CUPCAKE LACE PAPER SET 6'],\n",
       "  [\"DOCTOR'S BAG SOFT TOY\"],\n",
       "  ['DOORMAT AIRMAIL'],\n",
       "  ['DOORMAT SPOTTY HOME SWEET HOME'],\n",
       "  ['ENAMEL WASH BOWL CREAM'],\n",
       "  ['FAMILY PHOTO FRAME CORNICE'],\n",
       "  ['FAUX FUR CHOCOLATE THROW'],\n",
       "  ['FEATHER PENCOAL BLACK'],\n",
       "  ['FEATHER PENHOT PINK'],\n",
       "  ['FEATHER PENLIGHT PINK'],\n",
       "  ['FELTCRAFT BUTTERFLY HEARTS'],\n",
       "  ['FINE WICKER HEART'],\n",
       "  ['FLUTED ANTIQUE CANDLE HOLDER'],\n",
       "  ['GINGERBREAD MAN COOKIE CUTTER'],\n",
       "  ['GLITTER CHRISTMAS HEART'],\n",
       "  ['GRAND CHOCOLATECANDLE'],\n",
       "  ['GREEN CHRISTMAS TREE CARD HOLDER'],\n",
       "  ['GREEN DRAWER KNOB ACRYLIC EDWARDIAN'],\n",
       "  ['GREEN REGENCY TEACUP AND SAUCER'],\n",
       "  ['GROW YOUR OWN FLOWERS SET OF 3'],\n",
       "  ['HAND WARMER BIRD DESIGN'],\n",
       "  ['HAND WARMER OWL DESIGN'],\n",
       "  ['HAND WARMER RED POLKA DOT'],\n",
       "  ['HAND WARMER RED RETROSPOT'],\n",
       "  ['HAND WARMER SCOTTY DOG DESIGN'],\n",
       "  ['HAND WARMER UNION JACK'],\n",
       "  ['HANGING HEART ZINC T-LIGHT HOLDER'],\n",
       "  ['HANGING METAL STAR LANTERN'],\n",
       "  ['HEART OF WICKER SMALL'],\n",
       "  ['HOMEMADE JAM SCENTED CANDLES'],\n",
       "  ['HOT WATER BOTTLE TEA AND SYMPATHY'],\n",
       "  ['IVORY DINER WALL CLOCK'],\n",
       "  ['IVORY HANGING DECORATION  HEART'],\n",
       "  ['JAM JAR WITH GREEN LID'],\n",
       "  ['JAM JAR WITH PINK LID'],\n",
       "  ['JAM MAKING SET PRINTED'],\n",
       "  ['JUMBO BAG RED RETROSPOT'],\n",
       "  ['LADYBIRD + BEE RAFFIA FOOD COVER'],\n",
       "  ['LANTERN CREAM GAZEBO'],\n",
       "  ['LITTLE GREEN MONSTER SOFT TOY'],\n",
       "  ['LUNCH BAG RED RETROSPOT'],\n",
       "  ['MIRRORED WALL ART SPLODGES'],\n",
       "  ['MIRRORED WALL ART TABLE LAMP'],\n",
       "  ['MULTI COLOUR SILVER T-LIGHT HOLDER'],\n",
       "  ['NAMASTE SWAGAT INCENSE'],\n",
       "  ['NATURAL SLATE HEART CHALKBOARD'],\n",
       "  ['NUMBER TILE COTTAGE GARDEN 8'],\n",
       "  ['ORGANISER WOOD ANTIQUE WHITE'],\n",
       "  ['PACK OF 12 COLOURED PENCILS'],\n",
       "  ['PACK OF 12 LONDON TISSUES'],\n",
       "  ['PACK OF 12 SKULL TISSUES'],\n",
       "  [\"PAPER CHAIN KIT 50'S CHRISTMAS\"],\n",
       "  ['PAPER CHAIN KIT VINTAGE CHRISTMAS'],\n",
       "  ['PINK DRAWER KNOB ACRYLIC EDWARDIAN'],\n",
       "  ['PLASTERS IN TIN STRONGMAN'],\n",
       "  ['POLKADOT PEN'],\n",
       "  ['PORCELAIN ROSE LARGE'],\n",
       "  ['PORCELAIN ROSE SMALL'],\n",
       "  ['RED  HARMONICA IN BOX'],\n",
       "  ['RED DRAWER KNOB ACRYLIC EDWARDIAN'],\n",
       "  ['RED HEART SHAPE LOVE BUCKET'],\n",
       "  ['RED RETROSPOT OVEN GLOVE'],\n",
       "  ['RED RETROSPOT ROUND CAKE TINS'],\n",
       "  ['RED STRIPE CERAMIC DRAWER KNOB'],\n",
       "  ['REGENCY CAKESTAND 3 TIER'],\n",
       "  ['RETROSPOT CHILDRENS APRON'],\n",
       "  ['RETROSPOT HEART HOT WATER BOTTLE'],\n",
       "  ['RETROSPOT LAMP'],\n",
       "  ['RIBBON REEL CHRISTMAS PRESENT'],\n",
       "  ['ROSE COTTAGE KEEPSAKE BOX'],\n",
       "  ['ROTATING LEAVES T-LIGHT HOLDER'],\n",
       "  ['SCENTED CANDLE IN DIGITALIS TIN'],\n",
       "  ['SET 2 TEA TOWELS I LOVE LONDON'],\n",
       "  ['SET OF 2 CHRISTMAS DECOUPAGE CANDLE'],\n",
       "  ['SET OF 20 VINTAGE CHRISTMAS NAPKINS'],\n",
       "  ['SET OF 3 NOTEBOOKS IN PARCEL'],\n",
       "  ['SET/3 CHRISTMAS DECOUPAGE CANDLES'],\n",
       "  ['SET/5 RED RETROSPOT LID GLASS BOWLS'],\n",
       "  ['SMALL HANGING IVORY/RED WOOD BIRD'],\n",
       "  ['SOAP DISH BROCANTE'],\n",
       "  ['STRAWBERRY CERAMIC TRINKET BOX'],\n",
       "  ['SWEETHEART CERAMIC TRINKET BOX'],\n",
       "  ['SWISS CHALET TREE DECORATION'],\n",
       "  ['SWISS ROLL TOWEL CHOCOLATE  SPOTS'],\n",
       "  ['TOADSTOOL MONEY BOX'],\n",
       "  ['TRIPLE PHOTO FRAME CORNICE'],\n",
       "  ['VICTORIAN GLASS HANGING T-LIGHT'],\n",
       "  ['VINTAGE CREAM 3 BASKET CAKE STAND'],\n",
       "  ['VINTAGE HEADS AND TAILS CARD GAME'],\n",
       "  ['VINTAGE POST OFFICE CABINET'],\n",
       "  ['VINTAGE SNAP CARDS'],\n",
       "  ['VINTAGE UNION JACK DOORSTOP'],\n",
       "  ['WAKE UP COCKEREL TILE COASTER'],\n",
       "  ['WHITE HANGING HEART T-LIGHT HOLDER'],\n",
       "  ['WHITE JEWELLED HEART DECORATION'],\n",
       "  ['WOODEN FRAME ANTIQUE WHITE'],\n",
       "  ['ZINC WILLIE WINKIE  CANDLE STICK']]}"
      ]
     },
     "execution_count": 36,
     "metadata": {},
     "output_type": "execute_result"
    }
   ],
   "source": [
    "C"
   ]
  },
  {
   "cell_type": "markdown",
   "id": "76f8f748-e398-4ba8-8a5e-085d1d40bb98",
   "metadata": {},
   "source": [
    "__Create L1__"
   ]
  },
  {
   "cell_type": "code",
   "execution_count": 38,
   "id": "6ac7f53e-8cfd-4417-926f-d4eff2357d06",
   "metadata": {},
   "outputs": [],
   "source": [
    "supp_count_L = {}\n",
    "f, sup, new_discarded = get_frequent(C[itemset_size], filtered_transactions, min_support, discarded)\n",
    "discarded.update({itemset_size : new_discarded})\n",
    "L.update({itemset_size : f})\n",
    "supp_count_L.update({itemset_size : sup})"
   ]
  },
  {
   "cell_type": "code",
   "execution_count": 40,
   "id": "92b6199f-5343-4309-a289-491e41b76e0f",
   "metadata": {},
   "outputs": [
    {
     "name": "stdout",
     "output_type": "stream",
     "text": [
      "Itemset | Frequency\n",
      "['HAND WARMER RED POLKA DOT']  :  10\n",
      "['HAND WARMER UNION JACK']  :  11\n",
      "['JAM MAKING SET PRINTED']  :  3\n",
      "\n",
      "\n"
     ]
    }
   ],
   "source": [
    "print_table(L[1], supp_count_L[1])"
   ]
  },
  {
   "cell_type": "markdown",
   "id": "40c6b757-8633-4125-a4d6-ea63d02dd984",
   "metadata": {},
   "source": [
    "## Apriori algorithm"
   ]
  },
  {
   "cell_type": "code",
   "execution_count": 42,
   "id": "7182c049-4fd0-4ae5-ae39-6eeb93c7e8a1",
   "metadata": {},
   "outputs": [
    {
     "name": "stdout",
     "output_type": "stream",
     "text": [
      "Table L2: \n",
      "\n",
      "Itemset | Frequency\n",
      "['HAND WARMER RED POLKA DOT', 'HAND WARMER UNION JACK']  :  10\n",
      "\n",
      "\n"
     ]
    }
   ],
   "source": [
    "k = itemset_size + 1\n",
    "convergence = False\n",
    "while not convergence:\n",
    "    C.update({ k : join_set_itemsets(L[k-1], order)})\n",
    "    f, sup, new_discarded = get_frequent(C[k], filtered_transactions, min_support, discarded) \n",
    "    discarded.update({k : new_discarded})\n",
    "    L.update({k : f})\n",
    "    supp_count_L.update({k : sup})\n",
    "    if len(L[k]) == 0:\n",
    "        convergence = True\n",
    "    else:\n",
    "        print(\"Table L{}: \\n\".format(k))\n",
    "        print_table(L[k], supp_count_L[k])\n",
    "    k += 1"
   ]
  },
  {
   "cell_type": "markdown",
   "id": "45005c76-f69c-4835-ab48-49909c0c7e07",
   "metadata": {},
   "source": [
    "## Generating the Association rules"
   ]
  },
  {
   "cell_type": "code",
   "execution_count": 44,
   "id": "b401f565-8dd1-435d-a229-09b4aa6adf0c",
   "metadata": {},
   "outputs": [],
   "source": [
    "assoc_rules_str = \"\"\n",
    "num_trans = len(filtered_transactions)\n",
    "for i in range(1, len(L)):\n",
    "    for j in range(len(L[i])):\n",
    "        s = powerset(L[i][j])\n",
    "        for z in s:\n",
    "            S = set(z)\n",
    "            X = set(L[i][j])\n",
    "            X_S = set(X-S)\n",
    "            sup_x = supp_count_L[i][j]\n",
    "            sup_x_s = count_occurences(X_S, filtered_transactions)\n",
    "            conf = sup_x / count_occurences(S, filtered_transactions)\n",
    "            lift = conf / (sup_x_s / num_trans)\n",
    "            if conf >= min_confidence:\n",
    "                assoc_rules_str += write_rules(X, X_S, S, conf, sup_x, lift, num_trans)"
   ]
  },
  {
   "cell_type": "code",
   "execution_count": 46,
   "id": "ee3e79ee-3209-4954-b60e-27ba971509e6",
   "metadata": {
    "scrolled": true
   },
   "outputs": [
    {
     "name": "stdout",
     "output_type": "stream",
     "text": [
      "Freq. Itemset: {'HAND WARMER UNION JACK', 'HAND WARMER RED POLKA DOT'}\n",
      "    Rule: ['HAND WARMER RED POLKA DOT'] -> ['HAND WARMER UNION JACK'] \n",
      "    Conf: 1.000     Supp: 0.200     Lift: 4.545 \n",
      "Freq. Itemset: {'HAND WARMER UNION JACK', 'HAND WARMER RED POLKA DOT'}\n",
      "    Rule: ['HAND WARMER UNION JACK'] -> ['HAND WARMER RED POLKA DOT'] \n",
      "    Conf: 0.909     Supp: 0.200     Lift: 4.545 \n",
      "\n"
     ]
    }
   ],
   "source": [
    "print(assoc_rules_str)"
   ]
  },
  {
   "cell_type": "code",
   "execution_count": 73,
   "id": "b33ed515-8e46-4ac5-82c5-5f9b8937971c",
   "metadata": {},
   "outputs": [],
   "source": [
    "with open('apriori_result.txt', 'w') as f:\n",
    "    f.write(assoc_rules_str)"
   ]
  },
  {
   "cell_type": "code",
   "execution_count": null,
   "id": "6a899a42-4e4e-4ded-a1cd-ace3d120d6b5",
   "metadata": {},
   "outputs": [],
   "source": []
  }
 ],
 "metadata": {
  "kernelspec": {
   "display_name": "Python 3 (ipykernel)",
   "language": "python",
   "name": "python3"
  },
  "language_info": {
   "codemirror_mode": {
    "name": "ipython",
    "version": 3
   },
   "file_extension": ".py",
   "mimetype": "text/x-python",
   "name": "python",
   "nbconvert_exporter": "python",
   "pygments_lexer": "ipython3",
   "version": "3.12.4"
  }
 },
 "nbformat": 4,
 "nbformat_minor": 5
}
