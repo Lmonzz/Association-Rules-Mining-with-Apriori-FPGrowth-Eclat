{
 "cells": [
  {
   "cell_type": "markdown",
   "id": "6b7f0b66-2833-4fa4-adec-dfadeeb6933f",
   "metadata": {},
   "source": [
    "## Load Data"
   ]
  },
  {
   "cell_type": "code",
   "execution_count": 2,
   "id": "8a927604-9537-4df0-8410-04fc60f7bf07",
   "metadata": {},
   "outputs": [],
   "source": [
    "import numpy as np\n",
    "from libs.utils import *"
   ]
  },
  {
   "cell_type": "code",
   "execution_count": 3,
   "id": "4efbd2f2-deb9-42c4-a08a-1b0b56c10fb4",
   "metadata": {},
   "outputs": [],
   "source": [
    "path_to_data = \"dataset/data_1.txt\"\n",
    "min_support = 2/9\n",
    "min_confidence = 0.3\n",
    "order = ['I' + str(i) for i in range(1,6)]"
   ]
  },
  {
   "cell_type": "code",
   "execution_count": 4,
   "id": "88cce94c-dac3-419d-a296-525f3c128596",
   "metadata": {},
   "outputs": [],
   "source": [
    "transactions = load_transactions(path_to_data, order)"
   ]
  },
  {
   "cell_type": "code",
   "execution_count": 5,
   "id": "6dd08340-02dc-42df-a93b-04cf33dedc56",
   "metadata": {},
   "outputs": [],
   "source": [
    "transactions\n",
    "num_trans = len(transactions)"
   ]
  },
  {
   "cell_type": "markdown",
   "id": "f7375374-f97f-4c34-9809-f3b5266ceccd",
   "metadata": {},
   "source": [
    "## Initialization "
   ]
  },
  {
   "cell_type": "code",
   "execution_count": 7,
   "id": "58a3b586-8b99-48c1-9203-d5a147a269f4",
   "metadata": {},
   "outputs": [],
   "source": [
    "C = {}\n",
    "L = {}\n",
    "itemset_size = 1\n",
    "discarded = {itemset_size: []}\n",
    "C.update({itemset_size: [[f] for f in order]})"
   ]
  },
  {
   "cell_type": "code",
   "execution_count": 8,
   "id": "ea879c4e-e14b-41c3-a709-b338b079f2d9",
   "metadata": {},
   "outputs": [
    {
     "data": {
      "text/plain": [
       "{1: [['I1'], ['I2'], ['I3'], ['I4'], ['I5']]}"
      ]
     },
     "execution_count": 8,
     "metadata": {},
     "output_type": "execute_result"
    }
   ],
   "source": [
    "C"
   ]
  },
  {
   "cell_type": "markdown",
   "id": "76f8f748-e398-4ba8-8a5e-085d1d40bb98",
   "metadata": {},
   "source": [
    "__Create L1__"
   ]
  },
  {
   "cell_type": "code",
   "execution_count": 10,
   "id": "6ac7f53e-8cfd-4417-926f-d4eff2357d06",
   "metadata": {},
   "outputs": [],
   "source": [
    "supp_count_L = {}\n",
    "f, sup, new_discarded = get_frequent(C[itemset_size], transactions, min_support, discarded)\n",
    "discarded.update({itemset_size : new_discarded})\n",
    "L.update({itemset_size : f})\n",
    "supp_count_L.update({itemset_size : sup})"
   ]
  },
  {
   "cell_type": "code",
   "execution_count": 11,
   "id": "92b6199f-5343-4309-a289-491e41b76e0f",
   "metadata": {},
   "outputs": [
    {
     "name": "stdout",
     "output_type": "stream",
     "text": [
      "Itemset | Frequency\n",
      "['I1']  :  6\n",
      "['I2']  :  7\n",
      "['I3']  :  6\n",
      "['I4']  :  2\n",
      "['I5']  :  2\n",
      "\n",
      "\n"
     ]
    }
   ],
   "source": [
    "print_table(L[1], supp_count_L[1])"
   ]
  },
  {
   "cell_type": "markdown",
   "id": "40c6b757-8633-4125-a4d6-ea63d02dd984",
   "metadata": {},
   "source": [
    "## Apriori algorithm"
   ]
  },
  {
   "cell_type": "code",
   "execution_count": 13,
   "id": "7182c049-4fd0-4ae5-ae39-6eeb93c7e8a1",
   "metadata": {},
   "outputs": [
    {
     "name": "stdout",
     "output_type": "stream",
     "text": [
      "Table L2: \n",
      "\n",
      "Itemset | Frequency\n",
      "['I1', 'I2']  :  4\n",
      "['I1', 'I3']  :  4\n",
      "['I1', 'I5']  :  2\n",
      "['I2', 'I3']  :  4\n",
      "['I2', 'I4']  :  2\n",
      "['I2', 'I5']  :  2\n",
      "\n",
      "\n",
      "Table L3: \n",
      "\n",
      "Itemset | Frequency\n",
      "['I1', 'I2', 'I3']  :  2\n",
      "['I1', 'I2', 'I5']  :  2\n",
      "\n",
      "\n"
     ]
    }
   ],
   "source": [
    "k = itemset_size + 1\n",
    "convergence = False\n",
    "while not convergence:\n",
    "    C.update({ k : join_set_itemsets(L[k-1], order)})\n",
    "    f, sup, new_discarded = get_frequent(C[k], transactions, min_support, discarded) \n",
    "    discarded.update({k : new_discarded})\n",
    "    L.update({k : f})\n",
    "    supp_count_L.update({k : sup})\n",
    "    if len(L[k]) == 0:\n",
    "        convergence = True\n",
    "    else:\n",
    "        print(\"Table L{}: \\n\".format(k))\n",
    "        print_table(L[k], supp_count_L[k])\n",
    "    k += 1"
   ]
  },
  {
   "cell_type": "markdown",
   "id": "45005c76-f69c-4835-ab48-49909c0c7e07",
   "metadata": {},
   "source": [
    "## Generating the Association rules"
   ]
  },
  {
   "cell_type": "code",
   "execution_count": 28,
   "id": "b401f565-8dd1-435d-a229-09b4aa6adf0c",
   "metadata": {},
   "outputs": [],
   "source": [
    "assoc_rules_str = \"\"\n",
    "\n",
    "for i in range(1, len(L)):\n",
    "    for j in range(len(L[i])):\n",
    "        s = powerset(L[i][j])\n",
    "        for z in s:\n",
    "            S = set(z)\n",
    "            X = set(L[i][j])\n",
    "            X_S = set(X-S)\n",
    "            sup_x = supp_count_L[i][j]\n",
    "            sup_x_s = count_occurences(X_S, transactions)\n",
    "            conf = sup_x / count_occurences(S, transactions)\n",
    "            lift = conf / (sup_x_s / num_trans)\n",
    "            if conf >= min_confidence:\n",
    "                assoc_rules_str += write_rules(X, X_S, S, conf, sup_x, lift, num_trans)"
   ]
  },
  {
   "cell_type": "code",
   "execution_count": 30,
   "id": "ee3e79ee-3209-4954-b60e-27ba971509e6",
   "metadata": {},
   "outputs": [
    {
     "name": "stdout",
     "output_type": "stream",
     "text": [
      "Freq. Itemset: {'I1', 'I2'}\n",
      "    Rule: ['I1'] -> ['I2'] \n",
      "    Conf: 0.667     Supp: 0.444     Lift: 0.857 \n",
      "Freq. Itemset: {'I1', 'I2'}\n",
      "    Rule: ['I2'] -> ['I1'] \n",
      "    Conf: 0.571     Supp: 0.444     Lift: 0.857 \n",
      "Freq. Itemset: {'I3', 'I1'}\n",
      "    Rule: ['I1'] -> ['I3'] \n",
      "    Conf: 0.667     Supp: 0.444     Lift: 1.000 \n",
      "Freq. Itemset: {'I3', 'I1'}\n",
      "    Rule: ['I3'] -> ['I1'] \n",
      "    Conf: 0.667     Supp: 0.444     Lift: 1.000 \n",
      "Freq. Itemset: {'I1', 'I5'}\n",
      "    Rule: ['I1'] -> ['I5'] \n",
      "    Conf: 0.333     Supp: 0.222     Lift: 1.500 \n",
      "Freq. Itemset: {'I1', 'I5'}\n",
      "    Rule: ['I5'] -> ['I1'] \n",
      "    Conf: 1.000     Supp: 0.222     Lift: 1.500 \n",
      "Freq. Itemset: {'I3', 'I2'}\n",
      "    Rule: ['I2'] -> ['I3'] \n",
      "    Conf: 0.571     Supp: 0.444     Lift: 0.857 \n",
      "Freq. Itemset: {'I3', 'I2'}\n",
      "    Rule: ['I3'] -> ['I2'] \n",
      "    Conf: 0.667     Supp: 0.444     Lift: 0.857 \n",
      "Freq. Itemset: {'I2', 'I4'}\n",
      "    Rule: ['I4'] -> ['I2'] \n",
      "    Conf: 1.000     Supp: 0.222     Lift: 1.286 \n",
      "Freq. Itemset: {'I5', 'I2'}\n",
      "    Rule: ['I5'] -> ['I2'] \n",
      "    Conf: 1.000     Supp: 0.222     Lift: 1.286 \n",
      "Freq. Itemset: {'I3', 'I1', 'I2'}\n",
      "    Rule: ['I1'] -> ['I3', 'I2'] \n",
      "    Conf: 0.333     Supp: 0.222     Lift: 0.750 \n",
      "Freq. Itemset: {'I3', 'I1', 'I2'}\n",
      "    Rule: ['I3'] -> ['I1', 'I2'] \n",
      "    Conf: 0.333     Supp: 0.222     Lift: 0.750 \n",
      "Freq. Itemset: {'I3', 'I1', 'I2'}\n",
      "    Rule: ['I1', 'I2'] -> ['I3'] \n",
      "    Conf: 0.500     Supp: 0.222     Lift: 0.750 \n",
      "Freq. Itemset: {'I3', 'I1', 'I2'}\n",
      "    Rule: ['I3', 'I1'] -> ['I2'] \n",
      "    Conf: 0.500     Supp: 0.222     Lift: 0.643 \n",
      "Freq. Itemset: {'I3', 'I1', 'I2'}\n",
      "    Rule: ['I3', 'I2'] -> ['I1'] \n",
      "    Conf: 0.500     Supp: 0.222     Lift: 0.750 \n",
      "Freq. Itemset: {'I5', 'I1', 'I2'}\n",
      "    Rule: ['I1'] -> ['I2', 'I5'] \n",
      "    Conf: 0.333     Supp: 0.222     Lift: 1.500 \n",
      "Freq. Itemset: {'I5', 'I1', 'I2'}\n",
      "    Rule: ['I5'] -> ['I1', 'I2'] \n",
      "    Conf: 1.000     Supp: 0.222     Lift: 2.250 \n",
      "Freq. Itemset: {'I5', 'I1', 'I2'}\n",
      "    Rule: ['I1', 'I2'] -> ['I5'] \n",
      "    Conf: 0.500     Supp: 0.222     Lift: 2.250 \n",
      "Freq. Itemset: {'I5', 'I1', 'I2'}\n",
      "    Rule: ['I1', 'I5'] -> ['I2'] \n",
      "    Conf: 1.000     Supp: 0.222     Lift: 1.286 \n",
      "Freq. Itemset: {'I5', 'I1', 'I2'}\n",
      "    Rule: ['I5', 'I2'] -> ['I1'] \n",
      "    Conf: 1.000     Supp: 0.222     Lift: 1.500 \n",
      "\n"
     ]
    }
   ],
   "source": [
    "print(assoc_rules_str)"
   ]
  }
 ],
 "metadata": {
  "kernelspec": {
   "display_name": "Python 3 (ipykernel)",
   "language": "python",
   "name": "python3"
  },
  "language_info": {
   "codemirror_mode": {
    "name": "ipython",
    "version": 3
   },
   "file_extension": ".py",
   "mimetype": "text/x-python",
   "name": "python",
   "nbconvert_exporter": "python",
   "pygments_lexer": "ipython3",
   "version": "3.12.4"
  }
 },
 "nbformat": 4,
 "nbformat_minor": 5
}
