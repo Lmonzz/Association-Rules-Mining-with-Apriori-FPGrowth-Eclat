{
 "cells": [
  {
   "cell_type": "code",
   "execution_count": 1,
   "id": "b5440b38-a26e-4467-9910-cd0eb3748400",
   "metadata": {},
   "outputs": [],
   "source": [
    "from libs.fpgrowth import *\n",
    "from random import sample"
   ]
  },
  {
   "cell_type": "code",
   "execution_count": 11,
   "id": "2f8611ef-670a-4632-bf63-b8b4e0668d5a",
   "metadata": {},
   "outputs": [],
   "source": [
    "path_to_data = \"C:/Users/Admin/DA_Projects/online_retail.txt\"\n",
    "path_to_order = \"C:/Users/Admin/DA_Projects/order.txt\""
   ]
  },
  {
   "cell_type": "code",
   "execution_count": 31,
   "id": "d551ff4b-5f90-41c3-9ce9-6afc8d842649",
   "metadata": {},
   "outputs": [],
   "source": [
    "order = load_order(path_to_order)\n",
    "transactions = load_transactions(path_to_data, order)\n",
    "sampled_transactions = transactions[:int(len(transactions) * 0.01)] \n",
    "filtered_transactions = [t for t in sampled_transactions if len(t) < 10]\n",
    "if len(filtered_transactions) > 50:\n",
    "    filtered_transactions = sample(filtered_transactions, 50)"
   ]
  },
  {
   "cell_type": "code",
   "execution_count": 5,
   "id": "16547160-d8c2-4d66-ab52-577df0505d5d",
   "metadata": {},
   "outputs": [
    {
     "name": "stdout",
     "output_type": "stream",
     "text": [
      "Running FP-Growth with min_support = 3\n",
      "\n",
      "Frequent Itemsets:\n",
      "['a']: 8\n",
      "['b']: 7\n",
      "['b', 'a']: 5\n",
      "['c']: 6\n",
      "['c', 'b']: 5\n",
      "['c', 'a']: 4\n",
      "['c', 'a', 'b']: 3\n",
      "['d']: 5\n",
      "['d', 'b']: 3\n",
      "['d', 'a']: 4\n",
      "['d', 'c']: 3\n",
      "['e']: 3\n"
     ]
    }
   ],
   "source": [
    "min_support = 3\n",
    "print(\"Running FP-Growth with min_support =\", min_support)\n",
    "frequent_itemsets = run_fp_growth(filtered_transactions, min_support)\n",
    "\n",
    "print(\"\\nFrequent Itemsets:\")\n",
    "for itemset, support in frequent_itemsets:\n",
    "    print(f\"{itemset}: {support}\")"
   ]
  },
  {
   "cell_type": "code",
   "execution_count": 5,
   "id": "ec92dadd-422c-45f5-98fc-bb59092b8496",
   "metadata": {},
   "outputs": [
    {
     "name": "stdout",
     "output_type": "stream",
     "text": [
      "[3, 2, 1]\n"
     ]
    }
   ],
   "source": [
    "a = [1,2,3]\n",
    "print(a[::-1])"
   ]
  },
  {
   "cell_type": "markdown",
   "id": "f35549f0-5a09-40e4-b862-ddaea3904f81",
   "metadata": {},
   "source": [
    "\n",
    "Frequent Itemsets:\n",
    "['a']: 8\n",
    "['b']: 7\n",
    "['b', 'a']: 5\n",
    "['c']: 6\n",
    "['c', 'a']: 4\n",
    "['c', 'b']: 5\n",
    "['c', 'b', 'a']: 3\n",
    "['d']: 5\n",
    "['d', 'a']: 4\n",
    "['d', 'b']: 3\n",
    "['d', 'c']: 3\n",
    "['e']: 3"
   ]
  }
 ],
 "metadata": {
  "kernelspec": {
   "display_name": "Python 3 (ipykernel)",
   "language": "python",
   "name": "python3"
  },
  "language_info": {
   "codemirror_mode": {
    "name": "ipython",
    "version": 3
   },
   "file_extension": ".py",
   "mimetype": "text/x-python",
   "name": "python",
   "nbconvert_exporter": "python",
   "pygments_lexer": "ipython3",
   "version": "3.12.4"
  }
 },
 "nbformat": 4,
 "nbformat_minor": 5
}
