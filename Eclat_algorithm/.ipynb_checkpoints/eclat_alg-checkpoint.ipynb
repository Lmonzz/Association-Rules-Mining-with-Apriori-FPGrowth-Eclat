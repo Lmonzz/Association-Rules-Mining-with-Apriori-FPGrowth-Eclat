{
 "cells": [
  {
   "cell_type": "code",
   "execution_count": 1,
   "id": "65278f79-1e8c-4cf3-9bbf-0e779574f5a4",
   "metadata": {},
   "outputs": [],
   "source": [
    "import numpy as np\n",
    "import pandas as pd\n",
    "from random import sample\n",
    "from libs.eclat import *"
   ]
  },
  {
   "cell_type": "code",
   "execution_count": 3,
   "id": "2de13765-78e6-44cb-81b0-c2c63a233d46",
   "metadata": {},
   "outputs": [],
   "source": [
    "path_to_data = \"C:/Users/Admin/DA_Projects/online_retail.txt\"\n",
    "path_to_order = \"C:/Users/Admin/DA_Projects/order.txt\""
   ]
  },
  {
   "cell_type": "code",
   "execution_count": 5,
   "id": "07f5e982-b686-4883-bc44-86a159e4b5af",
   "metadata": {},
   "outputs": [],
   "source": [
    "order = load_order(path_to_order)\n",
    "transactions = load_transactions(path_to_data, order)\n",
    "sampled_transactions = transactions[:int(len(transactions) * 0.01)] \n",
    "filtered_transactions = [t for t in sampled_transactions if len(t) < 10]\n",
    "if len(filtered_transactions) > 50:\n",
    "    filtered_transactions = sample(filtered_transactions, 50)"
   ]
  },
  {
   "cell_type": "code",
   "execution_count": 9,
   "id": "1db1ae12-6615-4978-b21c-5a71be45f0c8",
   "metadata": {},
   "outputs": [
    {
     "name": "stdout",
     "output_type": "stream",
     "text": [
      "Frequent itemset: {'HAND WARMER OWL DESIGN'}, support: 3\n",
      "Frequent itemset: {'HAND WARMER OWL DESIGN', 'HAND WARMER SCOTTY DOG DESIGN'}, support: 3\n",
      "Frequent itemset: {'HAND WARMER RED RETROSPOT'}, support: 3\n",
      "Frequent itemset: {'HAND WARMER SCOTTY DOG DESIGN'}, support: 3\n",
      "Frequent itemset: {'JAM MAKING SET PRINTED'}, support: 3\n",
      "Frequent itemset: {'ALARM CLOCK BAKELIKE GREEN'}, support: 3\n",
      "Frequent itemset: {'ALARM CLOCK BAKELIKE ORANGE'}, support: 3\n",
      "Frequent itemset: {'HOT WATER BOTTLE BABUSHKA'}, support: 3\n",
      "Frequent itemset: {'RED WOOLLY HOTTIE WHITE HEART.'}, support: 3\n",
      "Frequent itemset: {'WHITE HANGING HEART T-LIGHT HOLDER'}, support: 3\n",
      "Frequent itemset: {'ASSORTED COLOUR MINI CASES'}, support: 3\n",
      "Frequent itemset: {'HAND WARMER RED POLKA DOT'}, support: 10\n",
      "Frequent itemset: {'HAND WARMER UNION JACK', 'HAND WARMER RED POLKA DOT'}, support: 10\n",
      "Frequent itemset: {'HAND WARMER UNION JACK'}, support: 12\n"
     ]
    }
   ],
   "source": [
    "min_support = 3\n",
    "data = preprocess_dataset(filtered_transactions, min_support)\n",
    "eclat(data, min_support)"
   ]
  },
  {
   "cell_type": "code",
   "execution_count": null,
   "id": "f4bc5186-1dd5-42af-b117-e018517535e3",
   "metadata": {},
   "outputs": [],
   "source": []
  }
 ],
 "metadata": {
  "kernelspec": {
   "display_name": "Python 3 (ipykernel)",
   "language": "python",
   "name": "python3"
  },
  "language_info": {
   "codemirror_mode": {
    "name": "ipython",
    "version": 3
   },
   "file_extension": ".py",
   "mimetype": "text/x-python",
   "name": "python",
   "nbconvert_exporter": "python",
   "pygments_lexer": "ipython3",
   "version": "3.12.4"
  }
 },
 "nbformat": 4,
 "nbformat_minor": 5
}
