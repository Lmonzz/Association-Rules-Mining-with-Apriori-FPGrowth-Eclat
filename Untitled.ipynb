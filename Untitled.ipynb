{
 "cells": [
  {
   "cell_type": "code",
   "execution_count": 15,
   "id": "c5edfab0-8cb7-45d5-8110-e2635319237a",
   "metadata": {},
   "outputs": [
    {
     "name": "stdout",
     "output_type": "stream",
     "text": [
      "5\n",
      "3\n",
      "[1, 1]\n",
      "2\n",
      "[2, 3]\n",
      "4\n",
      "[3, 2]\n"
     ]
    }
   ],
   "source": [
    "nums=[1,3,4,2]\n",
    "target=6\n",
    "\n",
    "dic = {}\n",
    "for i in range(len(nums)):\n",
    "    key = nums[i]\n",
    "    dic[key] = i;\n",
    "for i in range(len(nums)):\n",
    "    cal = target - nums[i]\n",
    "    print(cal)\n",
    "    if cal in dic:\n",
    "        print([i, dic[cal]])"
   ]
  },
  {
   "cell_type": "code",
   "execution_count": 3,
   "id": "03514f84-abec-48a9-a8ea-25988551dc57",
   "metadata": {},
   "outputs": [
    {
     "data": {
      "text/plain": [
       "{1: 0, 3: 1, 4: 2, 2: 3}"
      ]
     },
     "execution_count": 3,
     "metadata": {},
     "output_type": "execute_result"
    }
   ],
   "source": [
    "dic"
   ]
  },
  {
   "cell_type": "code",
   "execution_count": 21,
   "id": "fe0f24fb-67bb-44f8-81ff-9c77cc587231",
   "metadata": {},
   "outputs": [
    {
     "name": "stdout",
     "output_type": "stream",
     "text": [
      "no\n"
     ]
    }
   ],
   "source": [
    "if 5 in dic:\n",
    "    print(\"yes\")\n",
    "else:\n",
    "    print(\"no\")"
   ]
  },
  {
   "cell_type": "code",
   "execution_count": 3,
   "id": "6c7da368-f27a-471a-8a67-d725351fbca2",
   "metadata": {},
   "outputs": [
    {
     "data": {
      "text/plain": [
       "{'r': 0, 'c': 0, 'a': 0, 'e': 0}"
      ]
     },
     "execution_count": 3,
     "metadata": {},
     "output_type": "execute_result"
    }
   ],
   "source": [
    "s=\"racecar\"\n",
    "t=\"carrace\"\n",
    "     \n",
    "count = {}\n",
    "\n",
    "for i in range(len(s)):\n",
    "    count[s[i]] = 1 + count.get(s[i], 0)\n",
    "    count[t[i]] = count.get(t[i], 0) - 1\n",
    "\n",
    "count    "
   ]
  },
  {
   "cell_type": "code",
   "execution_count": 33,
   "id": "2811fdb6-3e31-4179-bfa2-b72103d1be94",
   "metadata": {},
   "outputs": [
    {
     "ename": "TypeError",
     "evalue": "'str' object is not callable",
     "output_type": "error",
     "traceback": [
      "\u001b[1;31m---------------------------------------------------------------------------\u001b[0m",
      "\u001b[1;31mTypeError\u001b[0m                                 Traceback (most recent call last)",
      "Cell \u001b[1;32mIn[33], line 10\u001b[0m\n\u001b[0;32m      8\u001b[0m     \u001b[38;5;28;01mfor\u001b[39;00m j \u001b[38;5;129;01min\u001b[39;00m  \u001b[38;5;28mrange\u001b[39m(\u001b[38;5;28mlen\u001b[39m(\u001b[38;5;28mstr\u001b[39m)):\n\u001b[0;32m      9\u001b[0m        cnt[\u001b[38;5;28mstr\u001b[39m[j]] \u001b[38;5;241m=\u001b[39m \u001b[38;5;241m1\u001b[39m \u001b[38;5;241m+\u001b[39m cnt\u001b[38;5;241m.\u001b[39mget(\u001b[38;5;28mstr\u001b[39m[j], \u001b[38;5;241m0\u001b[39m) \n\u001b[1;32m---> 10\u001b[0m        \u001b[38;5;28mstr\u001b[39m(cnt[\u001b[38;5;28mstr\u001b[39m[j]])\n\u001b[0;32m     13\u001b[0m dic\n",
      "\u001b[1;31mTypeError\u001b[0m: 'str' object is not callable"
     ]
    }
   ],
   "source": [
    "strs = [\"act\",\"pots\",\"tops\",\"cat\",\"stop\",\"hat\"]\n",
    "\n",
    "dic = {}\n",
    "res = []\n",
    "\n",
    "for str in strs:\n",
    "    cnt = {}\n",
    "    for j in  range(len(str)):\n",
    "       cnt[str[j]] = 1 + cnt.get(str[j], 0) \n",
    "       \n",
    "      \n",
    "\n",
    "dic\n",
    "        \n",
    "        \n",
    "\n",
    "    \n",
    "    \n"
   ]
  },
  {
   "cell_type": "code",
   "execution_count": 15,
   "id": "c9d4b19a-616f-493b-a4b2-232ffed1e754",
   "metadata": {},
   "outputs": [
    {
     "data": {
      "text/plain": [
       "['act', 'cat', 'hat', 'pots', 'stop', 'tops']"
      ]
     },
     "execution_count": 15,
     "metadata": {},
     "output_type": "execute_result"
    }
   ],
   "source": [
    "strs"
   ]
  },
  {
   "cell_type": "code",
   "execution_count": 43,
   "id": "71cf8430-68eb-4e56-9608-22376b332bbf",
   "metadata": {},
   "outputs": [
    {
     "data": {
      "text/plain": [
       "str"
      ]
     },
     "execution_count": 43,
     "metadata": {},
     "output_type": "execute_result"
    }
   ],
   "source": [
    "import json \n",
    "\n",
    "mydict = { \"name\" : \"Don\", \n",
    "          \"surname\" : \"Mandol\", \n",
    "          \"age\" : 43} \n",
    "\n",
    "result = json.dumps(mydict)\n",
    "\n",
    "type(result)"
   ]
  },
  {
   "cell_type": "code",
   "execution_count": null,
   "id": "a77d7b9f-6bae-499d-aac6-47c3ee9dc9bb",
   "metadata": {},
   "outputs": [],
   "source": []
  },
  {
   "cell_type": "code",
   "execution_count": null,
   "id": "692313ad-d557-49f4-acd8-054cca6c7d5a",
   "metadata": {},
   "outputs": [],
   "source": []
  }
 ],
 "metadata": {
  "kernelspec": {
   "display_name": "Python 3 (ipykernel)",
   "language": "python",
   "name": "python3"
  },
  "language_info": {
   "codemirror_mode": {
    "name": "ipython",
    "version": 3
   },
   "file_extension": ".py",
   "mimetype": "text/x-python",
   "name": "python",
   "nbconvert_exporter": "python",
   "pygments_lexer": "ipython3",
   "version": "3.12.4"
  }
 },
 "nbformat": 4,
 "nbformat_minor": 5
}
